{
 "cells": [
  {
   "cell_type": "code",
   "execution_count": 1,
   "metadata": {},
   "outputs": [
    {
     "name": "stdout",
     "output_type": "stream",
     "text": [
      "Collecting matplotlib\n",
      "  Downloading matplotlib-3.9.1-cp311-cp311-manylinux_2_17_x86_64.manylinux2014_x86_64.whl.metadata (11 kB)\n",
      "Requirement already satisfied: numpy in /home/vikto/miniconda3/envs/python3.11/lib/python3.11/site-packages (1.26.4)\n",
      "Collecting scikit-learn\n",
      "  Downloading scikit_learn-1.5.1-cp311-cp311-manylinux_2_17_x86_64.manylinux2014_x86_64.whl.metadata (12 kB)\n",
      "Collecting pandas\n",
      "  Downloading pandas-2.2.2-cp311-cp311-manylinux_2_17_x86_64.manylinux2014_x86_64.whl.metadata (19 kB)\n",
      "Requirement already satisfied: torch in /home/vikto/miniconda3/envs/python3.11/lib/python3.11/site-packages (2.2.2)\n",
      "Requirement already satisfied: torchvision in /home/vikto/miniconda3/envs/python3.11/lib/python3.11/site-packages (0.17.2)\n",
      "Collecting contourpy>=1.0.1 (from matplotlib)\n",
      "  Downloading contourpy-1.2.1-cp311-cp311-manylinux_2_17_x86_64.manylinux2014_x86_64.whl.metadata (5.8 kB)\n",
      "Collecting cycler>=0.10 (from matplotlib)\n",
      "  Downloading cycler-0.12.1-py3-none-any.whl.metadata (3.8 kB)\n",
      "Collecting fonttools>=4.22.0 (from matplotlib)\n",
      "  Downloading fonttools-4.53.1-cp311-cp311-manylinux_2_17_x86_64.manylinux2014_x86_64.whl.metadata (162 kB)\n",
      "\u001b[2K     \u001b[90m━━━━━━━━━━━━━━━━━━━━━━━━━━━━━━━━━━━━━━━\u001b[0m \u001b[32m162.6/162.6 kB\u001b[0m \u001b[31m1.2 MB/s\u001b[0m eta \u001b[36m0:00:00\u001b[0ma \u001b[36m0:00:01\u001b[0m\n",
      "\u001b[?25hCollecting kiwisolver>=1.3.1 (from matplotlib)\n",
      "  Downloading kiwisolver-1.4.5-cp311-cp311-manylinux_2_17_x86_64.manylinux2014_x86_64.whl.metadata (6.4 kB)\n",
      "Requirement already satisfied: packaging>=20.0 in /home/vikto/miniconda3/envs/python3.11/lib/python3.11/site-packages (from matplotlib) (24.1)\n",
      "Requirement already satisfied: pillow>=8 in /home/vikto/miniconda3/envs/python3.11/lib/python3.11/site-packages (from matplotlib) (10.2.0)\n",
      "Collecting pyparsing>=2.3.1 (from matplotlib)\n",
      "  Downloading pyparsing-3.1.2-py3-none-any.whl.metadata (5.1 kB)\n",
      "Requirement already satisfied: python-dateutil>=2.7 in /home/vikto/miniconda3/envs/python3.11/lib/python3.11/site-packages (from matplotlib) (2.9.0)\n",
      "Collecting scipy>=1.6.0 (from scikit-learn)\n",
      "  Downloading scipy-1.14.0-cp311-cp311-manylinux_2_17_x86_64.manylinux2014_x86_64.whl.metadata (60 kB)\n",
      "\u001b[2K     \u001b[90m━━━━━━━━━━━━━━━━━━━━━━━━━━━━━━━━━━━━━━━━\u001b[0m \u001b[32m60.8/60.8 kB\u001b[0m \u001b[31m7.4 MB/s\u001b[0m eta \u001b[36m0:00:00\u001b[0m\n",
      "\u001b[?25hCollecting joblib>=1.2.0 (from scikit-learn)\n",
      "  Downloading joblib-1.4.2-py3-none-any.whl.metadata (5.4 kB)\n",
      "Collecting threadpoolctl>=3.1.0 (from scikit-learn)\n",
      "  Downloading threadpoolctl-3.5.0-py3-none-any.whl.metadata (13 kB)\n",
      "Collecting pytz>=2020.1 (from pandas)\n",
      "  Downloading pytz-2024.1-py2.py3-none-any.whl.metadata (22 kB)\n",
      "Collecting tzdata>=2022.7 (from pandas)\n",
      "  Downloading tzdata-2024.1-py2.py3-none-any.whl.metadata (1.4 kB)\n",
      "Requirement already satisfied: filelock in /home/vikto/miniconda3/envs/python3.11/lib/python3.11/site-packages (from torch) (3.13.1)\n",
      "Requirement already satisfied: typing-extensions>=4.8.0 in /home/vikto/miniconda3/envs/python3.11/lib/python3.11/site-packages (from torch) (4.9.0)\n",
      "Requirement already satisfied: sympy in /home/vikto/miniconda3/envs/python3.11/lib/python3.11/site-packages (from torch) (1.12)\n",
      "Requirement already satisfied: networkx in /home/vikto/miniconda3/envs/python3.11/lib/python3.11/site-packages (from torch) (3.1)\n",
      "Requirement already satisfied: jinja2 in /home/vikto/miniconda3/envs/python3.11/lib/python3.11/site-packages (from torch) (3.1.3)\n",
      "Collecting fsspec (from torch)\n",
      "  Downloading fsspec-2024.6.1-py3-none-any.whl.metadata (11 kB)\n",
      "Requirement already satisfied: six>=1.5 in /home/vikto/miniconda3/envs/python3.11/lib/python3.11/site-packages (from python-dateutil>=2.7->matplotlib) (1.16.0)\n",
      "Requirement already satisfied: MarkupSafe>=2.0 in /home/vikto/miniconda3/envs/python3.11/lib/python3.11/site-packages (from jinja2->torch) (2.1.3)\n",
      "Requirement already satisfied: mpmath>=0.19 in /home/vikto/miniconda3/envs/python3.11/lib/python3.11/site-packages (from sympy->torch) (1.3.0)\n",
      "Downloading matplotlib-3.9.1-cp311-cp311-manylinux_2_17_x86_64.manylinux2014_x86_64.whl (8.3 MB)\n",
      "\u001b[2K   \u001b[90m━━━━━━━━━━━━━━━━━━━━━━━━━━━━━━━━━━━━━━━━\u001b[0m \u001b[32m8.3/8.3 MB\u001b[0m \u001b[31m433.0 kB/s\u001b[0m eta \u001b[36m0:00:00\u001b[0m00:01\u001b[0m00:01\u001b[0m\n",
      "\u001b[?25hDownloading scikit_learn-1.5.1-cp311-cp311-manylinux_2_17_x86_64.manylinux2014_x86_64.whl (13.3 MB)\n",
      "\u001b[2K   \u001b[90m━━━━━━━━━━━━━━━━━━━━━━━━━━━━━━━━━━━━━━━━\u001b[0m \u001b[32m13.3/13.3 MB\u001b[0m \u001b[31m398.6 kB/s\u001b[0m eta \u001b[36m0:00:00\u001b[0m00:01\u001b[0m00:01\u001b[0m\n",
      "\u001b[?25hDownloading pandas-2.2.2-cp311-cp311-manylinux_2_17_x86_64.manylinux2014_x86_64.whl (13.0 MB)\n",
      "\u001b[2K   \u001b[90m━━━━━━━━━━━━━━━━━━━━━━━━━━━━━━━━━━━━━━━━\u001b[0m \u001b[32m13.0/13.0 MB\u001b[0m \u001b[31m417.0 kB/s\u001b[0m eta \u001b[36m0:00:00\u001b[0m00:01\u001b[0m00:01\u001b[0m\n",
      "\u001b[?25hDownloading contourpy-1.2.1-cp311-cp311-manylinux_2_17_x86_64.manylinux2014_x86_64.whl (306 kB)\n",
      "\u001b[2K   \u001b[90m━━━━━━━━━━━━━━━━━━━━━━━━━━━━━━━━━━━━━━━\u001b[0m \u001b[32m306.0/306.0 kB\u001b[0m \u001b[31m377.2 kB/s\u001b[0m eta \u001b[36m0:00:00\u001b[0ma \u001b[36m0:00:01\u001b[0m\n",
      "\u001b[?25hDownloading cycler-0.12.1-py3-none-any.whl (8.3 kB)\n",
      "Downloading fonttools-4.53.1-cp311-cp311-manylinux_2_17_x86_64.manylinux2014_x86_64.whl (4.9 MB)\n",
      "\u001b[2K   \u001b[90m━━━━━━━━━━━━━━━━━━━━━━━━━━━━━━━━━━━━━━━━\u001b[0m \u001b[32m4.9/4.9 MB\u001b[0m \u001b[31m429.3 kB/s\u001b[0m eta \u001b[36m0:00:00\u001b[0m00:01\u001b[0m00:01\u001b[0m\n",
      "\u001b[?25hDownloading joblib-1.4.2-py3-none-any.whl (301 kB)\n",
      "\u001b[2K   \u001b[90m━━━━━━━━━━━━━━━━━━━━━━━━━━━━━━━━━━━━━━━\u001b[0m \u001b[32m301.8/301.8 kB\u001b[0m \u001b[31m393.1 kB/s\u001b[0m eta \u001b[36m0:00:00\u001b[0ma \u001b[36m0:00:01\u001b[0m\n",
      "\u001b[?25hDownloading kiwisolver-1.4.5-cp311-cp311-manylinux_2_17_x86_64.manylinux2014_x86_64.whl (1.4 MB)\n",
      "\u001b[2K   \u001b[90m━━━━━━━━━━━━━━━━━━━━━━━━━━━━━━━━━━━━━━━━\u001b[0m \u001b[32m1.4/1.4 MB\u001b[0m \u001b[31m464.8 kB/s\u001b[0m eta \u001b[36m0:00:00\u001b[0m00:01\u001b[0m00:01\u001b[0m\n",
      "\u001b[?25hDownloading pyparsing-3.1.2-py3-none-any.whl (103 kB)\n",
      "\u001b[2K   \u001b[90m━━━━━━━━━━━━━━━━━━━━━━━━━━━━━━━━━━━━━━━\u001b[0m \u001b[32m103.2/103.2 kB\u001b[0m \u001b[31m484.2 kB/s\u001b[0m eta \u001b[36m0:00:00\u001b[0ma \u001b[36m0:00:01\u001b[0m\n",
      "\u001b[?25hDownloading pytz-2024.1-py2.py3-none-any.whl (505 kB)\n",
      "\u001b[2K   \u001b[90m━━━━━━━━━━━━━━━━━━━━━━━━━━━━━━━━━━━━━━━\u001b[0m \u001b[32m505.5/505.5 kB\u001b[0m \u001b[31m496.6 kB/s\u001b[0m eta \u001b[36m0:00:00\u001b[0ma \u001b[36m0:00:01\u001b[0m\n",
      "\u001b[?25hDownloading scipy-1.14.0-cp311-cp311-manylinux_2_17_x86_64.manylinux2014_x86_64.whl (41.1 MB)\n",
      "\u001b[2K   \u001b[90m━━━━━━━━━━━━━━━━━━━━━━━━━━━━━━━━━━━━━━━━\u001b[0m \u001b[32m41.1/41.1 MB\u001b[0m \u001b[31m429.5 kB/s\u001b[0m eta \u001b[36m0:00:00\u001b[0m00:01\u001b[0m00:03\u001b[0m\n",
      "\u001b[?25hDownloading threadpoolctl-3.5.0-py3-none-any.whl (18 kB)\n",
      "Downloading tzdata-2024.1-py2.py3-none-any.whl (345 kB)\n",
      "\u001b[2K   \u001b[90m━━━━━━━━━━━━━━━━━━━━━━━━━━━━━━━━━━━━━━━\u001b[0m \u001b[32m345.4/345.4 kB\u001b[0m \u001b[31m562.9 kB/s\u001b[0m eta \u001b[36m0:00:00\u001b[0m00:01\u001b[0m00:01\u001b[0m\n",
      "\u001b[?25hDownloading fsspec-2024.6.1-py3-none-any.whl (177 kB)\n",
      "\u001b[2K   \u001b[90m━━━━━━━━━━━━━━━━━━━━━━━━━━━━━━━━━━━━━━━\u001b[0m \u001b[32m177.6/177.6 kB\u001b[0m \u001b[31m637.4 kB/s\u001b[0m eta \u001b[36m0:00:00\u001b[0ma \u001b[36m0:00:01\u001b[0m\n",
      "\u001b[?25hInstalling collected packages: pytz, tzdata, threadpoolctl, scipy, pyparsing, kiwisolver, joblib, fsspec, fonttools, cycler, contourpy, scikit-learn, pandas, matplotlib\n",
      "Successfully installed contourpy-1.2.1 cycler-0.12.1 fonttools-4.53.1 fsspec-2024.6.1 joblib-1.4.2 kiwisolver-1.4.5 matplotlib-3.9.1 pandas-2.2.2 pyparsing-3.1.2 pytz-2024.1 scikit-learn-1.5.1 scipy-1.14.0 threadpoolctl-3.5.0 tzdata-2024.1\n"
     ]
    }
   ],
   "source": [
    "!pip install matplotlib numpy scikit-learn pandas torch torchvision"
   ]
  },
  {
   "cell_type": "code",
   "execution_count": 2,
   "metadata": {},
   "outputs": [],
   "source": [
    "import pandas as pd\n",
    "import numpy as np\n",
    "import matplotlib.pyplot as plt\n"
   ]
  },
  {
   "cell_type": "code",
   "execution_count": 3,
   "metadata": {},
   "outputs": [
    {
     "name": "stdout",
     "output_type": "stream",
     "text": [
      "number of data:  3656\n"
     ]
    }
   ],
   "source": [
    "dataframe = pd.read_csv(\"data/framingham.csv\") #### read file to dataframe\n",
    "dataframe = dataframe.dropna()\n",
    "print(\"number of data: \", len(dataframe)) ### we have 4238 records "
   ]
  },
  {
   "cell_type": "code",
   "execution_count": 4,
   "metadata": {},
   "outputs": [
    {
     "name": "stdout",
     "output_type": "stream",
     "text": [
      "we got total 3656 records\n",
      "3099 records have not heart disease\n",
      "557 records have heart disease\n"
     ]
    }
   ],
   "source": [
    "###### from that => imbalace data\n",
    "have_disease = dataframe[dataframe['TenYearCHD'] == 1]\n",
    "nohave_disease = dataframe[dataframe['TenYearCHD'] == 0]\n",
    "total_records = len(dataframe)\n",
    "number_records_dis = len(have_disease)\n",
    "number_records_nodis = len(nohave_disease)\n",
    "print(\"we got total \"+str(total_records)+\" records\")\n",
    "print(str(number_records_nodis)+\" records have not heart disease\")\n",
    "print(str(number_records_dis)+\" records have heart disease\")"
   ]
  },
  {
   "cell_type": "code",
   "execution_count": 6,
   "metadata": {},
   "outputs": [
    {
     "data": {
      "image/png": "[encoded data removed]",
      "text/plain": [
       "<Figure size 640x480 with 1 Axes>"
      ]
     },
     "metadata": {},
     "output_type": "display_data"
    },
    {
     "data": {
      "text/plain": [
       "<Figure size 640x480 with 0 Axes>"
      ]
     },
     "metadata": {},
     "output_type": "display_data"
    }
   ],
   "source": [
    "labels = 'heart disease', 'not heart disease'\n",
    "sizes = [number_records_dis/total_records, number_records_nodis/total_records]\n",
    "fig1, ax1 = plt.subplots()\n",
    "ax1.pie(sizes, labels=labels, autopct='%1.1f%%',\n",
    "        shadow=True, startangle=90)\n",
    "plt.show()\n",
    "plt.clf()"
   ]
  },
  {
   "cell_type": "code",
   "execution_count": 7,
   "metadata": {},
   "outputs": [
    {
     "data": {
      "text/plain": [
       "<Figure size 640x480 with 0 Axes>"
      ]
     },
     "metadata": {},
     "output_type": "display_data"
    },
    {
     "data": {
      "image/png": "[encoded data removed]",
      "text/plain": [
       "<Figure size 640x480 with 6 Axes>"
      ]
     },
     "metadata": {},
     "output_type": "display_data"
    }
   ],
   "source": [
    "plt.clf()\n",
    "\n",
    "fig, ((ax0, ax1, ax2), (ax3, ax4, ax5)) = plt.subplots(nrows=2, ncols=3)\n",
    "ax0.hist((have_disease['male'], nohave_disease['male']), 2, histtype='bar', stacked=True)\n",
    "ax0.set_title('gender')\n",
    "ax1.hist((have_disease['age'], nohave_disease['age']),30 , histtype='bar', stacked=True)\n",
    "ax1.set_title('age')\n",
    "ax2.hist((have_disease['education'], nohave_disease['education']), histtype='bar', stacked=True)\n",
    "ax2.set_title('education')\n",
    "ax3.hist((have_disease['currentSmoker'], nohave_disease['currentSmoker']), 2, histtype='bar', stacked=True)\n",
    "ax3.set_title('currentSmoker')\n",
    "ax4.hist((have_disease['cigsPerDay'], nohave_disease['cigsPerDay']), histtype='bar', stacked=True)\n",
    "ax4.set_title('cigsPerDay')\n",
    "ax5.hist((have_disease['BPMeds'], nohave_disease['BPMeds']), 2 , histtype='bar', stacked=True)\n",
    "ax5.set_title('BPMeds')\n",
    "plt.show()\n"
   ]
  },
  {
   "cell_type": "code",
   "execution_count": 8,
   "metadata": {},
   "outputs": [
    {
     "data": {
      "text/plain": [
       "<Figure size 640x480 with 0 Axes>"
      ]
     },
     "metadata": {},
     "output_type": "display_data"
    },
    {
     "data": {
      "image/png": "[encoded data removed]",
      "text/plain": [
       "<Figure size 640x480 with 6 Axes>"
      ]
     },
     "metadata": {},
     "output_type": "display_data"
    }
   ],
   "source": [
    "plt.clf()\n",
    "\n",
    "fig, ((ax0, ax1, ax2), (ax3, ax4, ax5)) = plt.subplots(nrows=2, ncols=3)\n",
    "ax0.hist((have_disease['prevalentStroke'], nohave_disease['prevalentStroke']), 2, histtype='bar', stacked=True)\n",
    "ax0.set_title('prevalentStroke')\n",
    "ax1.hist((have_disease['prevalentHyp'], nohave_disease['prevalentHyp']), 2, histtype='bar', stacked=True)\n",
    "ax1.set_title('prevalentHyp')\n",
    "ax2.hist((have_disease['diabetes'], nohave_disease['diabetes']),2, histtype='bar', stacked=True)\n",
    "ax2.set_title('diabetes')\n",
    "ax3.hist((have_disease['totChol'], nohave_disease['totChol']), histtype='bar', stacked=True)\n",
    "ax3.set_title('totChol')\n",
    "ax4.hist((have_disease['sysBP'], nohave_disease['sysBP']), histtype='bar', stacked=True)\n",
    "ax4.set_title('sysBP')\n",
    "ax5.hist((have_disease['diaBP'], nohave_disease['diaBP']), histtype='bar', stacked=True)\n",
    "ax5.set_title('diaBP')\n",
    "plt.show()\n"
   ]
  },
  {
   "cell_type": "code",
   "execution_count": 9,
   "metadata": {},
   "outputs": [
    {
     "data": {
      "text/plain": [
       "<Figure size 640x480 with 0 Axes>"
      ]
     },
     "metadata": {},
     "output_type": "display_data"
    },
    {
     "data": {
      "image/png": "[encoded data removed]",
      "text/plain": [
       "<Figure size 640x480 with 3 Axes>"
      ]
     },
     "metadata": {},
     "output_type": "display_data"
    }
   ],
   "source": [
    "plt.clf()\n",
    "\n",
    "fig, ((ax0, ax1, ax2)) = plt.subplots(nrows=3)\n",
    "ax0.hist((have_disease['BMI'], nohave_disease['BMI']), histtype='bar', stacked=True)\n",
    "ax0.set_title('BMI')\n",
    "ax1.hist((have_disease['heartRate'], nohave_disease['heartRate']), histtype='bar', stacked=True)\n",
    "ax1.set_title('heartRate')\n",
    "ax2.hist((have_disease['glucose'], nohave_disease['glucose']), histtype='bar', stacked=True)\n",
    "ax2.set_title('glucose')\n",
    "plt.show()"
   ]
  },
  {
   "cell_type": "code",
   "execution_count": 10,
   "metadata": {},
   "outputs": [
    {
     "name": "stdout",
     "output_type": "stream",
     "text": [
      "male 1 0\n",
      "age 70 32\n",
      "education 4.0 1.0\n",
      "currentSmoker 1 0\n",
      "cigsPerDay 70.0 0.0\n",
      "BPMeds 1.0 0.0\n",
      "prevalentStroke 1 0\n",
      "prevalentHyp 1 0\n",
      "diabetes 1 0\n",
      "totChol 600.0 113.0\n",
      "sysBP 295.0 83.5\n",
      "diaBP 142.5 48.0\n",
      "BMI 56.8 15.54\n",
      "heartRate 143.0 44.0\n",
      "glucose 394.0 40.0\n"
     ]
    }
   ],
   "source": [
    "def normalize(dataframe, names):\n",
    "    max_e, min_e = max(dataframe[names]), min(dataframe[names]) \n",
    "    print(names, max(dataframe[names]), min(dataframe[names]))\n",
    "    dataframe[names] = (dataframe[names] - min_e) / (max_e - min_e)\n",
    "    # print(\"after: \", max(dataframe[names]), min(dataframe[names]))\n",
    "    return dataframe\n",
    "\n",
    "dataframe = normalize(dataframe, 'male')\n",
    "dataframe = normalize(dataframe, 'age')\n",
    "dataframe = normalize(dataframe, 'education')\n",
    "dataframe = normalize(dataframe, 'currentSmoker')\n",
    "dataframe = normalize(dataframe, 'cigsPerDay')\n",
    "dataframe = normalize(dataframe, 'BPMeds')\n",
    "dataframe = normalize(dataframe, 'prevalentStroke')\n",
    "dataframe = normalize(dataframe, 'prevalentHyp')\n",
    "dataframe = normalize(dataframe, 'diabetes')\n",
    "dataframe = normalize(dataframe, 'totChol')\n",
    "dataframe = normalize(dataframe, 'sysBP')\n",
    "dataframe = normalize(dataframe, 'diaBP')\n",
    "dataframe = normalize(dataframe, 'BMI')\n",
    "dataframe = normalize(dataframe, 'heartRate')\n",
    "dataframe = normalize(dataframe, 'glucose')"
   ]
  },
  {
   "cell_type": "code",
   "execution_count": 11,
   "metadata": {},
   "outputs": [],
   "source": [
    "#### turn to numpy array \n",
    "trainval = dataframe.sample(frac=0.9)\n",
    "train = trainval.sample(frac=0.8)\n",
    "val = trainval.drop(train.index).to_numpy()\n",
    "test = dataframe.drop(trainval.index).to_numpy()\n",
    "train = train.to_numpy()\n",
    "x_train, y_train = train[..., :15], train[..., 15]\n",
    "x_val, y_val = val[..., :15], val[..., 15]\n",
    "x_test, y_test = test[..., :15], test[..., 15]"
   ]
  },
  {
   "cell_type": "code",
   "execution_count": 12,
   "metadata": {},
   "outputs": [
    {
     "name": "stdout",
     "output_type": "stream",
     "text": [
      "0.8306010928961749\n"
     ]
    }
   ],
   "source": [
    "####### machine learning approach SVM\n",
    "from sklearn.pipeline import make_pipeline\n",
    "from sklearn.preprocessing import StandardScaler\n",
    "from sklearn.svm import SVC\n",
    "from sklearn.metrics import accuracy_score\n",
    "clf = make_pipeline(StandardScaler(), SVC(gamma='auto'))\n",
    "clf = clf.fit(x_train, y_train)\n",
    "y_predict = clf.predict(x_test)\n",
    "print(accuracy_score(y_test, y_predict))"
   ]
  },
  {
   "cell_type": "code",
   "execution_count": 15,
   "metadata": {},
   "outputs": [
    {
     "name": "stdout",
     "output_type": "stream",
     "text": [
      "0.8415300546448088\n",
      "[1.]\n"
     ]
    }
   ],
   "source": [
    "#### LinearSVC \n",
    "import pickle\n",
    "from sklearn.linear_model import LogisticRegression\n",
    "clf = make_pipeline(StandardScaler(),\n",
    "                    LogisticRegression(penalty='l2'))\n",
    "clf = clf.fit(x_train, y_train)\n",
    "y_predict = clf.predict(x_test)\n",
    "print(accuracy_score(y_test, y_predict))\n",
    "with open('LG.pkl', 'wb') as f:\n",
    "    pickle.dump(clf, f)\n",
    "with open('LG.pkl', 'rb') as f:\n",
    "    clf2 = pickle.load(f)\n",
    "\n",
    "x = np.random.rand(1, 15)\n",
    "y = clf2.predict(x)\n",
    "print(y)"
   ]
  },
  {
   "cell_type": "code",
   "execution_count": 7,
   "metadata": {},
   "outputs": [
    {
     "name": "stdout",
     "output_type": "stream",
     "text": [
      "0.76775956284153\n"
     ]
    }
   ],
   "source": [
    "### DecisionTreeClassifier\n",
    "from sklearn import tree\n",
    "clf = tree.DecisionTreeClassifier()\n",
    "clf = clf.fit(x_train, y_train)\n",
    "y_predict = clf.predict(x_test)\n",
    "print(accuracy_score(y_test, y_predict))"
   ]
  },
  {
   "cell_type": "code",
   "execution_count": 8,
   "metadata": {},
   "outputs": [
    {
     "name": "stdout",
     "output_type": "stream",
     "text": [
      "0.7650273224043715\n"
     ]
    }
   ],
   "source": [
    "#### DecisionTreeRegressor\n",
    "clf = tree.DecisionTreeRegressor()\n",
    "clf = clf.fit(x_train, y_train)\n",
    "y_predict = clf.predict(x_test)\n",
    "print(accuracy_score(y_test, y_predict))"
   ]
  },
  {
   "cell_type": "code",
   "execution_count": 9,
   "metadata": {},
   "outputs": [
    {
     "name": "stdout",
     "output_type": "stream",
     "text": [
      "0.8306010928961749\n"
     ]
    }
   ],
   "source": [
    "### Gaussian Naive Bayes\n",
    "from sklearn.naive_bayes import GaussianNB\n",
    "gnb = GaussianNB()\n",
    "y_pred = gnb.fit(x_train, y_train).predict(x_test)\n",
    "print(accuracy_score(y_test, y_pred))"
   ]
  },
  {
   "cell_type": "code",
   "execution_count": 28,
   "metadata": {},
   "outputs": [],
   "source": [
    "#### right here i can build a simple NN with 15 propertices we can make depenon that a\n",
    "import torch \n",
    "import torch.nn as nn\n",
    "import torch.nn.functional as F\n",
    "class Net(nn.Module):\n",
    "    def __init__(self):\n",
    "        super(Net, self).__init__()\n",
    "        self.fc1 = nn.Linear(15, 32)  \n",
    "        self.fc2 = nn.Linear(32, 64)\n",
    "        self.fc3 = nn.Linear(64, 64)\n",
    "        self.classify = nn.Linear(64, 2)\n",
    "\n",
    "    def forward(self, input):\n",
    "        x = F.relu(self.fc1(input))\n",
    "        x = F.relu(self.fc2(x))\n",
    "        x = F.relu(self.fc3(x))\n",
    "        x = self.classify(x)\n",
    "        return x\n",
    "\n",
    "class LogisticRegression(nn.Module):\n",
    "    def __init__(self):\n",
    "        super(LogisticRegression, self).__init__()\n",
    "        self.classify = nn.Linear(15, 1)\n",
    "    def forward(self, input):\n",
    "        return F.sigmod(self.classify(input))\n"
   ]
  },
  {
   "cell_type": "code",
   "execution_count": 32,
   "metadata": {},
   "outputs": [
    {
     "name": "stderr",
     "output_type": "stream",
     "text": [
      "/home/vikto/miniconda3/envs/faster/lib/python3.11/site-packages/torch/nn/modules/loss.py:101: UserWarning: Using a target size (torch.Size([2632])) that is different to the input size (torch.Size([2632, 1])). This will likely lead to incorrect results due to broadcasting. Please ensure they have the same size.\n",
      "  return F.l1_loss(input, target, reduction=self.reduction)\n"
     ]
    },
    {
     "name": "stdout",
     "output_type": "stream",
     "text": [
      "at epoch  0  loss:  0.15691488981246948\n",
      "at epoch  1  loss:  0.15691488981246948\n",
      "at epoch  2  loss:  0.15691488981246948\n",
      "at epoch  3  loss:  0.15691488981246948\n",
      "at epoch  4  loss:  0.15691488981246948\n",
      "at epoch  5  loss:  0.15691488981246948\n",
      "at epoch  6  loss:  0.15691488981246948\n",
      "at epoch  7  loss:  0.15691488981246948\n",
      "at epoch  8  loss:  0.15691488981246948\n",
      "at epoch  9  loss:  0.15691488981246948\n",
      "at epoch  10  loss:  0.15691488981246948\n",
      "at epoch  11  loss:  0.15691488981246948\n",
      "at epoch  12  loss:  0.15691488981246948\n",
      "at epoch  13  loss:  0.15691488981246948\n",
      "at epoch  14  loss:  0.15691488981246948\n",
      "at epoch  15  loss:  0.15691488981246948\n",
      "at epoch  16  loss:  0.15691488981246948\n",
      "at epoch  17  loss:  0.15691488981246948\n",
      "at epoch  18  loss:  0.15691488981246948\n",
      "at epoch  19  loss:  0.15691488981246948\n",
      "at epoch  20  loss:  0.15691488981246948\n",
      "at epoch  21  loss:  0.15691488981246948\n",
      "at epoch  22  loss:  0.15691488981246948\n",
      "at epoch  23  loss:  0.15691488981246948\n",
      "at epoch  24  loss:  0.15691488981246948\n",
      "at epoch  25  loss:  0.15691488981246948\n",
      "at epoch  26  loss:  0.15691488981246948\n",
      "at epoch  27  loss:  0.15691488981246948\n",
      "at epoch  28  loss:  0.15691488981246948\n",
      "at epoch  29  loss:  0.15691488981246948\n",
      "at epoch  30  loss:  0.15691488981246948\n",
      "at epoch  31  loss:  0.15691488981246948\n",
      "at epoch  32  loss:  0.15691488981246948\n",
      "at epoch  33  loss:  0.15691488981246948\n",
      "at epoch  34  loss:  0.15691488981246948\n",
      "at epoch  35  loss:  0.15691488981246948\n",
      "at epoch  36  loss:  0.15691488981246948\n",
      "at epoch  37  loss:  0.15691488981246948\n",
      "at epoch  38  loss:  0.15691488981246948\n",
      "at epoch  39  loss:  0.15691488981246948\n",
      "at epoch  40  loss:  0.15691488981246948\n",
      "at epoch  41  loss:  0.15691488981246948\n",
      "at epoch  42  loss:  0.15691488981246948\n",
      "at epoch  43  loss:  0.15691488981246948\n",
      "at epoch  44  loss:  0.15691488981246948\n",
      "at epoch  45  loss:  0.15691488981246948\n",
      "at epoch  46  loss:  0.15691488981246948\n",
      "at epoch  47  loss:  0.15691488981246948\n",
      "at epoch  48  loss:  0.15691488981246948\n",
      "at epoch  49  loss:  0.15691488981246948\n",
      "at epoch  50  loss:  0.15691488981246948\n",
      "at epoch  51  loss:  0.15691488981246948\n",
      "at epoch  52  loss:  0.15691488981246948\n",
      "at epoch  53  loss:  0.15691488981246948\n",
      "at epoch  54  loss:  0.15691488981246948\n",
      "at epoch  55  loss:  0.15691488981246948\n",
      "at epoch  56  loss:  0.15691488981246948\n",
      "at epoch  57  loss:  0.15691488981246948\n",
      "at epoch  58  loss:  0.15691488981246948\n",
      "at epoch  59  loss:  0.15691488981246948\n",
      "at epoch  60  loss:  0.15691488981246948\n",
      "at epoch  61  loss:  0.15691488981246948\n",
      "at epoch  62  loss:  0.15691488981246948\n",
      "at epoch  63  loss:  0.15691488981246948\n",
      "at epoch  64  loss:  0.15691488981246948\n",
      "at epoch  65  loss:  0.15691488981246948\n",
      "at epoch  66  loss:  0.15691488981246948\n",
      "at epoch  67  loss:  0.15691488981246948\n",
      "at epoch  68  loss:  0.15691488981246948\n",
      "at epoch  69  loss:  0.15691488981246948\n",
      "at epoch  70  loss:  0.15691488981246948\n",
      "at epoch  71  loss:  0.15691488981246948\n",
      "at epoch  72  loss:  0.15691488981246948\n",
      "at epoch  73  loss:  0.15691488981246948\n",
      "at epoch  74  loss:  0.15691488981246948\n",
      "at epoch  75  loss:  0.15691488981246948\n",
      "at epoch  76  loss:  0.15691488981246948\n",
      "at epoch  77  loss:  0.15691488981246948\n",
      "at epoch  78  loss:  0.15691488981246948\n",
      "at epoch  79  loss:  0.15691488981246948\n",
      "at epoch  80  loss:  0.15691488981246948\n",
      "at epoch  81  loss:  0.15691488981246948\n",
      "at epoch  82  loss:  0.15691488981246948\n",
      "at epoch  83  loss:  0.15691488981246948\n",
      "at epoch  84  loss:  0.15691488981246948\n",
      "at epoch  85  loss:  0.15691488981246948\n",
      "at epoch  86  loss:  0.15691488981246948\n",
      "at epoch  87  loss:  0.15691488981246948\n",
      "at epoch  88  loss:  0.15691488981246948\n",
      "at epoch  89  loss:  0.15691488981246948\n",
      "at epoch  90  loss:  0.15691488981246948\n",
      "at epoch  91  loss:  0.15691488981246948\n",
      "at epoch  92  loss:  0.15691488981246948\n",
      "at epoch  93  loss:  0.15691488981246948\n",
      "at epoch  94  loss:  0.15691488981246948\n",
      "at epoch  95  loss:  0.15691488981246948\n",
      "at epoch  96  loss:  0.15691488981246948\n",
      "at epoch  97  loss:  0.15691488981246948\n",
      "at epoch  98  loss:  0.15691488981246948\n",
      "at epoch  99  loss:  0.15691488981246948\n"
     ]
    }
   ],
   "source": [
    "model = LogisticRegression()\n",
    "loss_b = torch.nn.L1Loss()\n",
    "EPOCHS = 100\n",
    "best_loss = float('inf')\n",
    "optimizer = torch.optim.SGD(model.parameters(), lr=0.001, momentum=0.9)\n",
    "for epoch in range(EPOCHS):\n",
    "    running_loss = 0.0\n",
    "    optimizer.zero_grad()\n",
    "    y_pred = model(torch.from_numpy(x_train).float()) \n",
    "    loss = loss_b(y_pred, torch.from_numpy(y_train).long())\n",
    "    loss.backward()\n",
    "    optimizer.step()\n",
    "    running_loss += loss.item()\n",
    "    print(\"at epoch \", epoch, ' loss: ', running_loss)\n",
    "    ### validate\n",
    "    if running_loss < best_loss:\n",
    "            best_loss = running_loss\n",
    "            torch.save(model.state_dict(), 'weight/rg_best.pt')\n",
    "    # loss_val = 0.0\n",
    "    # with torch.no_grad():\n",
    "    #     if loss_val < best_loss:\n",
    "    #         best_loss = loss_val\n",
    "    #         torch.save(model.state_dict(), 'rg_best.pt')\n",
    "    #     y_pred = model(torch.from_numpy(x_val).float()) \n",
    "    #     loss_v_b = loss_b(y_pred, torch.from_numpy(y_val).long())\n",
    "    #     loss_val += loss_v_b\n",
    "    #     if loss_val < best_loss:\n",
    "    #         best_loss = loss_val\n",
    "    #         torch.save(model.state_dict(), 'rg_best.pt')\n"
   ]
  },
  {
   "cell_type": "code",
   "execution_count": 33,
   "metadata": {},
   "outputs": [
    {
     "name": "stdout",
     "output_type": "stream",
     "text": [
      "0.855191256830601\n"
     ]
    }
   ],
   "source": [
    "from sklearn.metrics import accuracy_score\n",
    "model.load_state_dict(torch.load('weight/rg_best.pt'))\n",
    "model.eval()\n",
    "predict = torch.where(model(torch.from_numpy(x_test).float()) > 0.5, 1, 0) \n",
    "predict = torch.argmax(predict, dim=1).cpu().numpy()\n",
    "print(accuracy_score(predict, y_test))"
   ]
  },
  {
   "cell_type": "code",
   "execution_count": 23,
   "metadata": {},
   "outputs": [
    {
     "name": "stdout",
     "output_type": "stream",
     "text": [
      "at epoch  0  loss:  2.4966979026794434\n",
      "at epoch  1  loss:  0.5542532801628113\n",
      "at epoch  2  loss:  0.6852097511291504\n",
      "at epoch  3  loss:  0.9857531785964966\n",
      "at epoch  4  loss:  1.1376769542694092\n",
      "at epoch  5  loss:  1.165596604347229\n",
      "at epoch  6  loss:  1.094115972518921\n",
      "at epoch  7  loss:  0.951977014541626\n",
      "at epoch  8  loss:  0.7692127823829651\n",
      "at epoch  9  loss:  0.5836868286132812\n",
      "at epoch  10  loss:  0.46096399426460266\n",
      "at epoch  11  loss:  0.4962019920349121\n",
      "at epoch  12  loss:  0.6471607685089111\n",
      "at epoch  13  loss:  0.6844085454940796\n",
      "at epoch  14  loss:  0.5734542608261108\n",
      "at epoch  15  loss:  0.47035691142082214\n",
      "at epoch  16  loss:  0.44691190123558044\n",
      "at epoch  17  loss:  0.4694155752658844\n",
      "at epoch  18  loss:  0.4986233115196228\n",
      "at epoch  19  loss:  0.5160190463066101\n",
      "at epoch  20  loss:  0.5174338221549988\n",
      "at epoch  21  loss:  0.5058757662773132\n",
      "at epoch  22  loss:  0.4873793125152588\n",
      "at epoch  23  loss:  0.4684155583381653\n",
      "at epoch  24  loss:  0.45391544699668884\n",
      "at epoch  25  loss:  0.4467453062534332\n",
      "at epoch  26  loss:  0.44714081287384033\n",
      "at epoch  27  loss:  0.45279133319854736\n",
      "at epoch  28  loss:  0.4601040184497833\n",
      "at epoch  29  loss:  0.46575504541397095\n",
      "at epoch  30  loss:  0.4677748382091522\n",
      "at epoch  31  loss:  0.46587976813316345\n",
      "at epoch  32  loss:  0.4611440598964691\n",
      "at epoch  33  loss:  0.45528867840766907\n",
      "at epoch  34  loss:  0.44995927810668945\n",
      "at epoch  35  loss:  0.44625312089920044\n",
      "at epoch  36  loss:  0.4445575475692749\n",
      "at epoch  37  loss:  0.4446360170841217\n",
      "at epoch  38  loss:  0.4458393156528473\n",
      "at epoch  39  loss:  0.44740960001945496\n",
      "at epoch  40  loss:  0.44868358969688416\n",
      "at epoch  41  loss:  0.44924086332321167\n",
      "at epoch  42  loss:  0.4489368200302124\n",
      "at epoch  43  loss:  0.44789013266563416\n",
      "at epoch  44  loss:  0.4463765323162079\n",
      "at epoch  45  loss:  0.44473907351493835\n",
      "at epoch  46  loss:  0.44329482316970825\n",
      "at epoch  47  loss:  0.4422682523727417\n",
      "at epoch  48  loss:  0.4417535364627838\n",
      "at epoch  49  loss:  0.44168588519096375\n",
      "at epoch  50  loss:  0.4419082999229431\n",
      "at epoch  51  loss:  0.44223690032958984\n",
      "at epoch  52  loss:  0.44248759746551514\n",
      "at epoch  53  loss:  0.4425409734249115\n",
      "at epoch  54  loss:  0.44234713912010193\n",
      "at epoch  55  loss:  0.44193607568740845\n",
      "at epoch  56  loss:  0.44138774275779724\n",
      "at epoch  57  loss:  0.4408045709133148\n",
      "at epoch  58  loss:  0.44028112292289734\n",
      "at epoch  59  loss:  0.4398811161518097\n",
      "at epoch  60  loss:  0.4396267831325531\n",
      "at epoch  61  loss:  0.4394993782043457\n",
      "at epoch  62  loss:  0.4394523799419403\n",
      "at epoch  63  loss:  0.43943309783935547\n",
      "at epoch  64  loss:  0.439389169216156\n",
      "at epoch  65  loss:  0.439288467168808\n",
      "at epoch  66  loss:  0.4391191601753235\n",
      "at epoch  67  loss:  0.43888986110687256\n",
      "at epoch  68  loss:  0.4386254847049713\n",
      "at epoch  69  loss:  0.4383563995361328\n",
      "at epoch  70  loss:  0.4381060004234314\n",
      "at epoch  71  loss:  0.4378907084465027\n",
      "at epoch  72  loss:  0.4377184510231018\n",
      "at epoch  73  loss:  0.43758144974708557\n",
      "at epoch  74  loss:  0.43746381998062134\n",
      "at epoch  75  loss:  0.4373475909233093\n",
      "at epoch  76  loss:  0.4372219443321228\n",
      "at epoch  77  loss:  0.43707510828971863\n",
      "at epoch  78  loss:  0.43690693378448486\n",
      "at epoch  79  loss:  0.4367223083972931\n",
      "at epoch  80  loss:  0.43652960658073425\n",
      "at epoch  81  loss:  0.43633773922920227\n",
      "at epoch  82  loss:  0.43615445494651794\n",
      "at epoch  83  loss:  0.4359869658946991\n",
      "at epoch  84  loss:  0.43583378195762634\n",
      "at epoch  85  loss:  0.43569013476371765\n",
      "at epoch  86  loss:  0.4355526864528656\n",
      "at epoch  87  loss:  0.43541547656059265\n",
      "at epoch  88  loss:  0.4352733790874481\n",
      "at epoch  89  loss:  0.43512365221977234\n",
      "at epoch  90  loss:  0.43496981263160706\n",
      "at epoch  91  loss:  0.4348132610321045\n",
      "at epoch  92  loss:  0.43465375900268555\n",
      "at epoch  93  loss:  0.43449583649635315\n",
      "at epoch  94  loss:  0.43434444069862366\n",
      "at epoch  95  loss:  0.4342016577720642\n",
      "at epoch  96  loss:  0.43406379222869873\n",
      "at epoch  97  loss:  0.4339328408241272\n",
      "at epoch  98  loss:  0.43380504846572876\n",
      "at epoch  99  loss:  0.4336763024330139\n"
     ]
    }
   ],
   "source": [
    "model = Net()\n",
    "loss_b = torch.nn.CrossEntropyLoss()\n",
    "EPOCHS = 100\n",
    "best_loss = float('inf')\n",
    "optimizer = torch.optim.SGD(model.parameters(), lr=0.001, momentum=0.9)\n",
    "for epoch in range(EPOCHS):\n",
    "    running_loss = 0.0\n",
    "    optimizer.zero_grad()\n",
    "    y_pred = model(torch.from_numpy(x_train).float()) \n",
    "    loss = loss_b(y_pred, torch.from_numpy(y_train).long())\n",
    "    loss.backward()\n",
    "    optimizer.step()\n",
    "    running_loss += loss.item()\n",
    "    print(\"at epoch \", epoch, ' loss: ', running_loss)\n",
    "    ### validate\n",
    "    loss_val = 0.0\n",
    "    with torch.no_grad():\n",
    "        y_pred = model(torch.from_numpy(x_val).float()) \n",
    "        loss_v_b = loss_b(y_pred, torch.from_numpy(y_val).long())\n",
    "        loss_val += loss_v_b\n",
    "        if loss_val < best_loss:\n",
    "            best_loss = loss_val\n",
    "            torch.save(model.state_dict(), 'weight/best.pt')\n"
   ]
  },
  {
   "cell_type": "code",
   "execution_count": 24,
   "metadata": {},
   "outputs": [
    {
     "name": "stdout",
     "output_type": "stream",
     "text": [
      "0.855191256830601\n"
     ]
    },
    {
     "name": "stderr",
     "output_type": "stream",
     "text": [
      "/tmp/ipykernel_12865/1844068044.py:4: UserWarning: Implicit dimension choice for softmax has been deprecated. Change the call to include dim=X as an argument.\n",
      "  predict = F.softmax(model(torch.from_numpy(x_test).float()))\n"
     ]
    }
   ],
   "source": [
    "from sklearn.metrics import accuracy_score\n",
    "model.load_state_dict(torch.load('weight/best.pt'))\n",
    "model.eval()\n",
    "predict = F.softmax(model(torch.from_numpy(x_test).float()))\n",
    "predict = torch.argmax(predict, dim=1).cpu().numpy()\n",
    "print(accuracy_score(predict, y_test))"
   ]
  },
  {
   "cell_type": "code",
   "execution_count": null,
   "metadata": {},
   "outputs": [],
   "source": []
  }
 ],
 "metadata": {
  "kernelspec": {
   "display_name": "faster",
   "language": "python",
   "name": "python3"
  },
  "language_info": {
   "codemirror_mode": {
    "name": "ipython",
    "version": 3
   },
   "file_extension": ".py",
   "mimetype": "text/x-python",
   "name": "python",
   "nbconvert_exporter": "python",
   "pygments_lexer": "ipython3",
   "version": "3.11.8"
  }
 },
 "nbformat": 4,
 "nbformat_minor": 2
}
